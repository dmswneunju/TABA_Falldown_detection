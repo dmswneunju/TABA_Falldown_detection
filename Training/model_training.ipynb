{
  "cells": [
    {
      "cell_type": "markdown",
      "metadata": {
        "id": "JRE_pdqxyAm-"
      },
      "source": [
        "라이브러리 다운로드"
      ]
    },
    {
      "cell_type": "code",
      "execution_count": null,
      "metadata": {
        "id": "Nr1gbGAfvDyT"
      },
      "outputs": [],
      "source": [
        "import pandas as pd\n",
        "import numpy as np\n",
        "import torch\n",
        "import torch.nn as nn\n",
        "import torch.optim as optim"
      ]
    },
    {
      "cell_type": "markdown",
      "metadata": {
        "id": "Ya1gINqhvTpE"
      },
      "source": [
        "각 비디오 내에서 입력 시퀀스 만들기\n",
        "- window_size = 몇 프레임을 한 시퀀스로 할 건지 => 정할 것\n",
        "- threshold : 한 시퀀스에서 낙상인 프레임이 몇 개 이상 있으면 '낙상' 시퀀스 인지 => 정할 것\n",
        "- feature : 사용할 feature, 우리는 R값, HSSC속도 값\n",
        "- step_size : 몇 프레임 씩 옮겨가면서 시퀀스 만들건지"
      ]
    },
    {
      "cell_type": "code",
      "execution_count": null,
      "metadata": {
        "id": "DiwzzJynvPmz"
      },
      "outputs": [],
      "source": [
        "def create_sequences_by_video(df, window_size=20 , step_size=2, threshold=10):\n",
        "    sequences = []\n",
        "    sequence_labels = []\n",
        "\n",
        "    for video_id in df['VideoID'].unique():\n",
        "        video_df = df[df['VideoID'] == video_id]\n",
        "        features = video_df[['aspect_ratio','hssc']].values\n",
        "        labels = video_df['Label'].values\n",
        "\n",
        "        for start in range(0, len(features) - window_size + 1, step_size):\n",
        "            end = start + window_size\n",
        "            seq_features = features[start:end]\n",
        "            seq_labels = labels[start:end]\n",
        "\n",
        "            # 시퀀스 라벨 설정: 1 라벨이 threshold 이상이면 1, 아니면 0\n",
        "            seq_label = 1 if np.sum(seq_labels) >= threshold else 0\n",
        "\n",
        "            sequences.append(seq_features)\n",
        "            sequence_labels.append(seq_label)\n",
        "\n",
        "    return np.array(sequences), np.array(sequence_labels)"
      ]
    },
    {
      "cell_type": "markdown",
      "metadata": {
        "id": "S8lZbRGNv-UO"
      },
      "source": [
        "데이터 가져와서 시퀀스 만들기"
      ]
    },
    {
      "cell_type": "code",
      "execution_count": null,
      "metadata": {
        "colab": {
          "base_uri": "https://localhost:8080/"
        },
        "id": "BMCqYR4av9zS",
        "outputId": "4714e2fc-afdb-41aa-91f6-5e3936891b85"
      },
      "outputs": [
        {
          "name": "stdout",
          "output_type": "stream",
          "text": [
            "Created 3079 sequences\n",
            "Sequence shape: (3079, 20, 2)\n",
            "Labels shape: (3079,)\n"
          ]
        }
      ],
      "source": [
        "# 데이터프레임 로드\n",
        "csv_path = '/content/drive/MyDrive/final_dataframe.csv'\n",
        "df = pd.read_csv(csv_path)\n",
        "\n",
        "# 시퀀스 생성\n",
        "X, y = create_sequences_by_video(df)\n",
        "\n",
        "print(f\"Created {len(X)} sequences\")\n",
        "print(\"Sequence shape:\", X.shape)\n",
        "print(\"Labels shape:\", y.shape)\n",
        "\n",
        "\n",
        "# 모델 입력을 위해 텐서로 변환\n",
        "X = torch.tensor(X, dtype=torch.float32)\n",
        "y = torch.tensor(y, dtype=torch.float32).view(-1, 1)"
      ]
    },
    {
      "cell_type": "code",
      "execution_count": null,
      "metadata": {
        "colab": {
          "base_uri": "https://localhost:8080/"
        },
        "id": "cTj45hiw1Pzn",
        "outputId": "54235e16-9948-4611-8f17-1d585f4277ee"
      },
      "outputs": [
        {
          "name": "stdout",
          "output_type": "stream",
          "text": [
            "                               VideoID  frame_idx       x       y      w  \\\n",
            "0     FD_In_H11H21H31_0001_20210112_09          0  1409.0  1332.0  617.0   \n",
            "1     FD_In_H11H21H31_0001_20210112_09          1  1422.0  1326.0  629.0   \n",
            "2     FD_In_H11H21H31_0001_20210112_09          2  1433.0  1324.0  629.0   \n",
            "3     FD_In_H11H21H31_0001_20210112_09          3  1437.0  1316.0  639.0   \n",
            "4     FD_In_H11H21H31_0001_20210112_09          4  1443.0  1313.0  640.0   \n",
            "...                                ...        ...     ...     ...    ...   \n",
            "8096  FD_In_H12H22H33_0008_20201016_20         93  1349.0   778.0  723.0   \n",
            "8097  FD_In_H12H22H33_0008_20201016_20         94  1350.0   775.0  722.0   \n",
            "8098  FD_In_H12H22H33_0008_20201016_20         95  1351.0   774.0  721.0   \n",
            "8099  FD_In_H12H22H33_0008_20201016_20         96  1353.0   770.0  719.0   \n",
            "8100  FD_In_H12H22H33_0008_20201016_20         97  1353.0   768.0  721.0   \n",
            "\n",
            "          h  aspect_ratio   point1x   point1y  point2x  ...  point14x  \\\n",
            "0     518.0      1.191120  0.000000  0.000000      0.0  ...  0.424436   \n",
            "1     527.0      1.193548  0.000000  0.000000      0.0  ...  0.419117   \n",
            "2     531.0      1.184557  0.000000  0.000000      0.0  ...  0.422915   \n",
            "3     548.0      1.166058  0.000000  0.000000      0.0  ...  0.415048   \n",
            "4     555.0      1.153153  0.000000  0.000000      0.0  ...  0.405775   \n",
            "...     ...           ...       ...       ...      ...  ...       ...   \n",
            "8096  390.0      1.853846  0.501792  0.419198      0.0  ...  0.411402   \n",
            "8097  394.0      1.832487  0.503937  0.414279      0.0  ...  0.412388   \n",
            "8098  396.0      1.820707  0.504859  0.410879      0.0  ...  0.412295   \n",
            "8099  401.0      1.793017  0.502178  0.413170      0.0  ...  0.411794   \n",
            "8100  403.0      1.789082  0.501266  0.412820      0.0  ...  0.411272   \n",
            "\n",
            "      point14y  point15x  point15y  point16x  point16y  point17x  point17y  \\\n",
            "0     0.779860  0.447709  0.828524  0.391488  0.791901  0.396734  0.841833   \n",
            "1     0.781664  0.449211  0.835180  0.390762  0.790058  0.401810  0.846184   \n",
            "2     0.760841  0.442955  0.828844  0.385431  0.781298  0.404220  0.853580   \n",
            "3     0.761666  0.448956  0.837351  0.396279  0.775052  0.404055  0.857371   \n",
            "4     0.756354  0.439958  0.836104  0.400218  0.769845  0.405357  0.862291   \n",
            "...        ...       ...       ...       ...       ...       ...       ...   \n",
            "8096  0.496602  0.411372  0.496279  0.373645  0.490117  0.374454  0.506833   \n",
            "8097  0.494441  0.411157  0.498596  0.374640  0.487003  0.374187  0.509031   \n",
            "8098  0.491378  0.410587  0.502004  0.374961  0.485487  0.373927  0.511896   \n",
            "8099  0.495330  0.411018  0.500146  0.374518  0.488372  0.374404  0.511278   \n",
            "8100  0.494578  0.410528  0.499099  0.374871  0.488668  0.374559  0.511394   \n",
            "\n",
            "        hssc  Label  \n",
            "0     0.0000      0  \n",
            "1     4.3897      0  \n",
            "2     0.8160      0  \n",
            "3     4.1583      0  \n",
            "4     1.2167      0  \n",
            "...      ...    ...  \n",
            "8096  0.0000      0  \n",
            "8097  0.0000      0  \n",
            "8098  0.0000      0  \n",
            "8099  0.0000      0  \n",
            "8100  0.0000      0  \n",
            "\n",
            "[8101 rows x 43 columns]\n"
          ]
        }
      ],
      "source": [
        "print(df)"
      ]
    },
    {
      "cell_type": "code",
      "execution_count": null,
      "metadata": {
        "colab": {
          "base_uri": "https://localhost:8080/"
        },
        "id": "-MQ0pvfV1sZ8",
        "outputId": "e9d36b3a-855d-4ec9-8aaf-9adde5ceb3da"
      },
      "outputs": [
        {
          "name": "stdout",
          "output_type": "stream",
          "text": [
            "tensor([[0.],\n",
            "        [0.],\n",
            "        [0.],\n",
            "        ...,\n",
            "        [0.],\n",
            "        [0.],\n",
            "        [0.]])\n"
          ]
        }
      ],
      "source": []
    },
    {
      "cell_type": "markdown",
      "metadata": {
        "id": "D29l8Ft-wag1"
      },
      "source": [
        "모델 구조 정의\n",
        "- GRU 층 : 일단은 두개?\n",
        "- 마지막은 FULLY CONNECTED로 출력값은 1개,"
      ]
    },
    {
      "cell_type": "code",
      "execution_count": null,
      "metadata": {
        "id": "f1zTKPVrwW-L"
      },
      "outputs": [],
      "source": [
        "# GRU 모델 정의\n",
        "class GRUModel(nn.Module):\n",
        "    def __init__(self, input_size, hidden_size1, hidden_size2, output_size):\n",
        "        super(GRUModel, self).__init__()\n",
        "        self.hidden_size1 = hidden_size1\n",
        "        self.hidden_size2 = hidden_size2\n",
        "\n",
        "        # GRU 레이어\n",
        "        self.gru1 = nn.GRU(input_size, hidden_size1, batch_first=True)\n",
        "        self.gru2 = nn.GRU(hidden_size1, hidden_size2, batch_first=True)\n",
        "\n",
        "        # Dropout 레이어\n",
        "        self.dropout = nn.Dropout(p=0.3)\n",
        "\n",
        "        # Fully connected 레이어\n",
        "        self.fc = nn.Linear(hidden_size2, output_size)\n",
        "\n",
        "    def forward(self, x):\n",
        "        h0_1 = torch.zeros(1, x.size(0), self.hidden_size1).to(x.device)\n",
        "        out1, _ = self.gru1(x, h0_1)\n",
        "\n",
        "        h0_2 = torch.zeros(1, out1.size(0), self.hidden_size2).to(out1.device)\n",
        "        out2, _ = self.gru2(out1, h0_2)\n",
        "\n",
        "        out = self.dropout(out2)\n",
        "        out = self.fc(out[:, -1, :])\n",
        "        return out"
      ]
    },
    {
      "cell_type": "markdown",
      "metadata": {
        "id": "HNA4vhDExYLb"
      },
      "source": [
        "데이터 준비&모델 파라미터 정의"
      ]
    },
    {
      "cell_type": "code",
      "execution_count": null,
      "metadata": {
        "colab": {
          "background_save": true
        },
        "id": "3jtV36h8xXoT"
      },
      "outputs": [],
      "source": [
        "# 데이터 준비\n",
        "from sklearn.model_selection import train_test_split\n",
        "\n",
        "X_train, X_val, y_train, y_val = train_test_split(X, y, test_size=0.2, random_state=42)\n",
        "\n",
        "# 모델 정의 및 학습\n",
        "input_size = X.shape[2]  # 특성 수\n",
        "hidden_size1 = 32\n",
        "hidden_size2 = 64\n",
        "output_size = 1  # 낙상 예측 (0 또는 1)\n",
        "num_epochs = 100\n",
        "learning_rate = 0.001\n",
        "\n",
        "model = GRUModel(input_size, hidden_size1, hidden_size2, output_size)\n",
        "criterion = nn.BCEWithLogitsLoss()\n",
        "optimizer = optim.Adam(model.parameters(), lr=learning_rate)\n"
      ]
    },
    {
      "cell_type": "markdown",
      "metadata": {
        "id": "BSKbT7YPx5rY"
      },
      "source": [
        "모델 학습&평가"
      ]
    },
    {
      "cell_type": "code",
      "execution_count": null,
      "metadata": {
        "colab": {
          "base_uri": "https://localhost:8080/"
        },
        "id": "cU4PVpgex5KH",
        "outputId": "b125e253-5f48-4ebc-8ed0-824613d56bc6"
      },
      "outputs": [
        {
          "name": "stdout",
          "output_type": "stream",
          "text": [
            "Epoch [10/100], Loss: 0.5228\n",
            "Epoch [20/100], Loss: 0.4664\n",
            "Epoch [30/100], Loss: 0.4571\n",
            "Epoch [40/100], Loss: 0.4556\n",
            "Epoch [50/100], Loss: 0.4543\n",
            "Epoch [60/100], Loss: 0.4495\n",
            "Epoch [70/100], Loss: 0.4462\n",
            "Epoch [80/100], Loss: 0.4471\n",
            "Epoch [90/100], Loss: 0.4432\n",
            "Epoch [100/100], Loss: 0.4379\n",
            "Validation Loss: 0.4455\n"
          ]
        }
      ],
      "source": [
        "# 모델 학습 함수\n",
        "def train_model(X_train, y_train, X_val, y_val, model, criterion, optimizer, num_epochs):\n",
        "    for epoch in range(num_epochs):\n",
        "        model.train()\n",
        "        outputs = model(X_train)\n",
        "        loss = criterion(outputs, y_train)\n",
        "\n",
        "        optimizer.zero_grad()\n",
        "        loss.backward()\n",
        "        optimizer.step()\n",
        "\n",
        "        if (epoch+1) % 10 == 0:\n",
        "            print(f'Epoch [{epoch+1}/{num_epochs}], Loss: {loss.item():.4f}')\n",
        "\n",
        "    # 모델 평가\n",
        "    model.eval()\n",
        "    with torch.no_grad():\n",
        "        val_outputs = model(X_val)\n",
        "        val_loss = criterion(val_outputs, y_val)\n",
        "        print(f'Validation Loss: {val_loss.item():.4f}')\n",
        "\n",
        "    return model\n",
        "\n",
        "trained_model = train_model(X_train, y_train, X_val, y_val, model, criterion, optimizer, num_epochs)"
      ]
    },
    {
      "cell_type": "markdown",
      "metadata": {
        "id": "caWGZMsPyFYX"
      },
      "source": [
        "모델 저장"
      ]
    },
    {
      "cell_type": "code",
      "execution_count": null,
      "metadata": {
        "id": "ecnhz1AyyGSq"
      },
      "outputs": [],
      "source": [
        "# 모델 저장\n",
        "model_path = 'gru_fall_detection_model.pth'\n",
        "torch.save(trained_model.state_dict(), model_path)\n",
        "print(f'Model saved to {model_path}')"
      ]
    }
  ],
  "metadata": {
    "accelerator": "GPU",
    "colab": {
      "gpuType": "T4",
      "provenance": []
    },
    "kernelspec": {
      "display_name": "Python 3",
      "name": "python3"
    },
    "language_info": {
      "name": "python"
    }
  },
  "nbformat": 4,
  "nbformat_minor": 0
}
